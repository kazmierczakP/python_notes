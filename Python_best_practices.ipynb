{
 "cells": [
  {
   "cell_type": "markdown",
   "id": "4ba60aaa",
   "metadata": {},
   "source": [
    "### naming convention"
   ]
  },
  {
   "cell_type": "code",
   "execution_count": 1,
   "id": "7b98e696",
   "metadata": {},
   "outputs": [],
   "source": [
    "### variable\n",
    "user_name='Mark'\n",
    "age=22"
   ]
  },
  {
   "cell_type": "code",
   "execution_count": 2,
   "id": "52bde7c1",
   "metadata": {},
   "outputs": [],
   "source": [
    "### constant\n",
    "PI=3.14"
   ]
  },
  {
   "cell_type": "code",
   "execution_count": 5,
   "id": "4726410b",
   "metadata": {},
   "outputs": [],
   "source": [
    "### function\n",
    "def my_fun():\n",
    "    pass"
   ]
  },
  {
   "cell_type": "code",
   "execution_count": 6,
   "id": "4ba21a7f",
   "metadata": {},
   "outputs": [],
   "source": [
    "### class\n",
    "class MyClass():\n",
    "    pass"
   ]
  },
  {
   "cell_type": "markdown",
   "id": "763e6aa8",
   "metadata": {},
   "source": [
    "### iterables"
   ]
  },
  {
   "cell_type": "code",
   "execution_count": 8,
   "id": "16f7a45e",
   "metadata": {},
   "outputs": [],
   "source": [
    "### list for ordered and mutable iterables\n",
    "my_list=['user_name','user_nick']"
   ]
  },
  {
   "cell_type": "code",
   "execution_count": 9,
   "id": "72fc71e8",
   "metadata": {},
   "outputs": [],
   "source": [
    "### set for unordered, mutable and UNIQUE\n",
    "# slower than list to iterate over\n",
    "# better for checking presence of item\n",
    "my_set={'user_name1','user_name2','user_name3'}"
   ]
  },
  {
   "cell_type": "code",
   "execution_count": 10,
   "id": "bc05c43b",
   "metadata": {},
   "outputs": [],
   "source": [
    "### tuple for ordered and immutable\n",
    "my_tuple=('Monday','Tuesday','Wednesday','Thursday','Friday','Saturday','Sunday')"
   ]
  },
  {
   "cell_type": "code",
   "execution_count": 11,
   "id": "0d60690e",
   "metadata": {},
   "outputs": [],
   "source": [
    "### carefull\n",
    "my_set=set()\n",
    "my_set={1}\n",
    "my_dict={}"
   ]
  },
  {
   "cell_type": "markdown",
   "id": "e3940ec8",
   "metadata": {},
   "source": [
    "### comparison statements"
   ]
  },
  {
   "cell_type": "code",
   "execution_count": null,
   "id": "820b35af",
   "metadata": {},
   "outputs": [],
   "source": [
    "### to compare Boolean values use is over =="
   ]
  },
  {
   "cell_type": "code",
   "execution_count": 15,
   "id": "a6e9827c",
   "metadata": {},
   "outputs": [],
   "source": [
    "x=True"
   ]
  },
  {
   "cell_type": "code",
   "execution_count": 16,
   "id": "98482574",
   "metadata": {},
   "outputs": [
    {
     "data": {
      "text/plain": [
       "True"
      ]
     },
     "execution_count": 16,
     "metadata": {},
     "output_type": "execute_result"
    }
   ],
   "source": [
    "x==True"
   ]
  },
  {
   "cell_type": "code",
   "execution_count": 17,
   "id": "205c4254",
   "metadata": {},
   "outputs": [
    {
     "data": {
      "text/plain": [
       "True"
      ]
     },
     "execution_count": 17,
     "metadata": {},
     "output_type": "execute_result"
    }
   ],
   "source": [
    "x is True"
   ]
  },
  {
   "cell_type": "markdown",
   "id": "d80e96ed",
   "metadata": {},
   "source": [
    "### informative exceptions"
   ]
  },
  {
   "cell_type": "code",
   "execution_count": 27,
   "id": "e5d68773",
   "metadata": {},
   "outputs": [],
   "source": [
    "def print_elements(elements):\n",
    "    try:\n",
    "        iter(elements)\n",
    "    except TypeError as e:\n",
    "        raise(TypeError(f\"'elements' should be iterable but is of type :{type(elements)}\"\").with_traceback(e.__traceback__))\n",
    "    else:\n",
    "        if elements:\n",
    "            for element in elements:\n",
    "                print(element)\n",
    "        else:\n",
    "            raise ValueError(\"'elements' should not be empty\")"
   ]
  },
  {
   "cell_type": "markdown",
   "id": "063c58d1",
   "metadata": {},
   "source": [
    "### type hinting"
   ]
  },
  {
   "cell_type": "code",
   "execution_count": 33,
   "id": "4c62eb9d",
   "metadata": {},
   "outputs": [],
   "source": [
    "### function takes str argumrnt (phrase: str) and returns str (-> str)\n",
    "def add_dot(phrase: str) -> str:\n",
    "    return(f'{phrase}.')"
   ]
  },
  {
   "cell_type": "markdown",
   "id": "264098a0",
   "metadata": {},
   "source": [
    "### docstrings"
   ]
  },
  {
   "cell_type": "code",
   "execution_count": 34,
   "id": "42775b6b",
   "metadata": {},
   "outputs": [],
   "source": [
    "def print_elements(elements):\n",
    "    '''\n",
    "    Prints each element of an iterable.\n",
    "    \n",
    "    Parameters:\n",
    "    -----------\n",
    "    elements: Iterable\n",
    "        An iterable containing items to be printed.\n",
    "    \n",
    "    Raises:\n",
    "    -------\n",
    "    TypeError: If the input is not an iterable.\n",
    "    ValueError: If the input iterable is empty.\n",
    "    \n",
    "    Returns:\n",
    "    --------\n",
    "    None\n",
    "    \n",
    "    Examples:\n",
    "    ---------\n",
    "    >>> print_elements([1,2,3])\n",
    "    1\n",
    "    2\n",
    "    3\n",
    "    \n",
    "    >>> print_elements([])\n",
    "    ValueError: 'elements' should not be empty\n",
    "    '''"
   ]
  },
  {
   "cell_type": "markdown",
   "id": "07f2fcae",
   "metadata": {},
   "source": [
    "### logging"
   ]
  },
  {
   "cell_type": "code",
   "execution_count": 41,
   "id": "7161e3df",
   "metadata": {},
   "outputs": [],
   "source": [
    "import logging\n",
    "\n",
    "logger=logging.getLogger(__name__)\n",
    "\n",
    "def print_elements(elements):\n",
    "    '''\n",
    "    <docstring>\n",
    "    '''\n",
    "    logger.debug(f\"Printing all items of an iterable.\")\n",
    "    try:\n",
    "        iter(elements)\n",
    "    except TypeError as e:\n",
    "        error_log=f\"'elements' should be itebalbe but is of type: {type(elements)}.\"\n",
    "        logger.error(error_log)\n",
    "        raise(TypeError(f'elements should be iterable but is of type :{type(elements)}').with_traceback(e.__traceback__))\n",
    "    else:\n",
    "        if elements:\n",
    "            for element in elements:\n",
    "                print(element)\n",
    "        else:\n",
    "            error_log=f\"'elements' should not be empty.\"\n",
    "            logger.error(error_log)\n",
    "            raise ValueError('elements should not be empty')"
   ]
  },
  {
   "cell_type": "code",
   "execution_count": 44,
   "id": "61e73079",
   "metadata": {
    "scrolled": true
   },
   "outputs": [
    {
     "name": "stderr",
     "output_type": "stream",
     "text": [
      "'elements' should not be empty.\n"
     ]
    },
    {
     "ename": "ValueError",
     "evalue": "elements should not be empty",
     "output_type": "error",
     "traceback": [
      "\u001b[1;31m---------------------------------------------------------------------------\u001b[0m",
      "\u001b[1;31mValueError\u001b[0m                                Traceback (most recent call last)",
      "Input \u001b[1;32mIn [44]\u001b[0m, in \u001b[0;36m<cell line: 1>\u001b[1;34m()\u001b[0m\n\u001b[1;32m----> 1\u001b[0m \u001b[43mprint_elements\u001b[49m\u001b[43m(\u001b[49m\u001b[38;5;124;43m'\u001b[39;49m\u001b[38;5;124;43m'\u001b[39;49m\u001b[43m)\u001b[49m\n",
      "Input \u001b[1;32mIn [41]\u001b[0m, in \u001b[0;36mprint_elements\u001b[1;34m(elements)\u001b[0m\n\u001b[0;32m     21\u001b[0m error_log\u001b[38;5;241m=\u001b[39m\u001b[38;5;124mf\u001b[39m\u001b[38;5;124m\"\u001b[39m\u001b[38;5;124m'\u001b[39m\u001b[38;5;124melements\u001b[39m\u001b[38;5;124m'\u001b[39m\u001b[38;5;124m should not be empty.\u001b[39m\u001b[38;5;124m\"\u001b[39m\n\u001b[0;32m     22\u001b[0m logger\u001b[38;5;241m.\u001b[39merror(error_log)\n\u001b[1;32m---> 23\u001b[0m \u001b[38;5;28;01mraise\u001b[39;00m \u001b[38;5;167;01mValueError\u001b[39;00m(\u001b[38;5;124m'\u001b[39m\u001b[38;5;124melements should not be empty\u001b[39m\u001b[38;5;124m'\u001b[39m)\n",
      "\u001b[1;31mValueError\u001b[0m: elements should not be empty"
     ]
    }
   ],
   "source": [
    "print_elements('')"
   ]
  },
  {
   "cell_type": "code",
   "execution_count": null,
   "id": "b057b6a3",
   "metadata": {},
   "outputs": [],
   "source": []
  }
 ],
 "metadata": {
  "kernelspec": {
   "display_name": "Python 3 (ipykernel)",
   "language": "python",
   "name": "python3"
  },
  "language_info": {
   "codemirror_mode": {
    "name": "ipython",
    "version": 3
   },
   "file_extension": ".py",
   "mimetype": "text/x-python",
   "name": "python",
   "nbconvert_exporter": "python",
   "pygments_lexer": "ipython3",
   "version": "3.8.12"
  }
 },
 "nbformat": 4,
 "nbformat_minor": 5
}
